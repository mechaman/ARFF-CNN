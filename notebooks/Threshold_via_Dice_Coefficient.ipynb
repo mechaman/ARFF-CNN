{
 "cells": [
  {
   "cell_type": "code",
   "execution_count": 5,
   "metadata": {},
   "outputs": [
    {
     "name": "stdout",
     "output_type": "stream",
     "text": [
      "0 in validation set.\n"
     ]
    },
    {
     "name": "stderr",
     "output_type": "stream",
     "text": [
      "/home/shared/anaconda3/lib/python3.6/site-packages/numpy/core/fromnumeric.py:2957: RuntimeWarning: Mean of empty slice.\n",
      "  out=out, **kwargs)\n",
      "/home/shared/anaconda3/lib/python3.6/site-packages/numpy/core/_methods.py:80: RuntimeWarning: invalid value encountered in double_scalars\n",
      "  ret = ret.dtype.type(ret / rcount)\n"
     ]
    }
   ],
   "source": [
    "## Load Imports ##\n",
    "import nibabel as nib\n",
    "import numpy as np\n",
    "\n",
    "import os\n",
    "import sysX\n",
    "module_path = os.path.abspath(os.path.join('..'))\n",
    "if module_path not in sys.path:\n",
    "    sys.path.append(module_path)\n",
    "    \n",
    "from metrics import dice_coef\n",
    "from utils import computeAverageDice"
   ]
  },
  {
   "cell_type": "code",
   "execution_count": 6,
   "metadata": {},
   "outputs": [],
   "source": [
    "import matplotlib.pyplot as plt\n",
    "def show_slices(slices):\n",
    "    \"\"\" Function to display row of image slices \"\"\"\n",
    "    fig, axes = plt.subplots(1, len(slices))\n",
    "    for i, slice in enumerate(slices):\n",
    "      axes[i].imshow(slice.T, cmap=\"gray\", origin=\"lower\")\n",
    "\n",
    "def show_slice(slice):\n",
    "    plt.imshow(slice.T, cmap=\"gray\", origin=\"lower\")\n",
    "    \n",
    "def normalizeImg(x):\n",
    "    # Normalize x\n",
    "    max_val = np.max(x)\n",
    "    min_val = np.min(x)\n",
    "    norm_x = (x-min_val)/(max_val-min_val + 1e-7)\n",
    "    return norm_x"
   ]
  },
  {
   "cell_type": "code",
   "execution_count": 12,
   "metadata": {
    "scrolled": false
   },
   "outputs": [
    {
     "name": "stdout",
     "output_type": "stream",
     "text": [
      "63770 in validation set.\n",
      "0.8391147540912843\n",
      "63770 in validation set.\n",
      "0.8412108664980665\n",
      "63770 in validation set.\n",
      "0.8433001945295082\n",
      "63770 in validation set.\n",
      "0.8452469433959109\n",
      "63770 in validation set.\n",
      "0.8470764896924353\n",
      "63770 in validation set.\n",
      "0.8488691258364847\n",
      "63770 in validation set.\n",
      "0.8505009829200103\n",
      "63770 in validation set.\n",
      "0.8521245848714802\n",
      "63770 in validation set.\n",
      "0.853689584597902\n",
      "63770 in validation set.\n",
      "0.8551071682459431\n",
      "63770 in validation set.\n",
      "0.8564518610254898\n",
      "63770 in validation set.\n",
      "0.8577136015623974\n",
      "63770 in validation set.\n",
      "0.8588729314087157\n",
      "63770 in validation set.\n",
      "0.8600217415377847\n",
      "63770 in validation set.\n",
      "0.8611224640737906\n",
      "63770 in validation set.\n",
      "0.8621393396135656\n",
      "63770 in validation set.\n",
      "0.8630386416736573\n",
      "63770 in validation set.\n",
      "0.8638681298820838\n",
      "63770 in validation set.\n",
      "0.8646595023920692\n",
      "63770 in validation set.\n",
      "0.8653288737258266\n",
      "63770 in validation set.\n",
      "0.8659120576061197\n",
      "63770 in validation set.\n",
      "0.866367806078599\n",
      "63770 in validation set.\n",
      "0.8667454315869593\n",
      "63770 in validation set.\n",
      "0.8670425677803123\n",
      "63770 in validation set.\n",
      "0.867135047634147\n",
      "63770 in validation set.\n",
      "0.8671948656340756\n",
      "63770 in validation set.\n",
      "0.8659992115234497\n",
      "63770 in validation set.\n",
      "0.8657303165059577\n",
      "63770 in validation set.\n",
      "0.8653300656404428\n",
      "63770 in validation set.\n",
      "0.8647323717899174\n",
      "63770 in validation set.\n",
      "0.8639970675479607\n",
      "63770 in validation set.\n",
      "0.8630951820591604\n",
      "63770 in validation set.\n",
      "0.861956076576616\n",
      "63770 in validation set.\n",
      "0.8605395794239189\n",
      "63770 in validation set.\n",
      "0.8589208416745874\n",
      "63770 in validation set.\n",
      "0.8571258643401448\n",
      "63770 in validation set.\n",
      "0.8549505015610038\n",
      "63770 in validation set.\n",
      "0.8522573216787629\n",
      "63770 in validation set.\n",
      "0.8488650787752544\n",
      "63770 in validation set.\n",
      "0.8447185323167501\n",
      "63770 in validation set.\n",
      "0.8394161343281089\n",
      "63770 in validation set.\n",
      "0.8325366229221214\n",
      "63770 in validation set.\n",
      "0.8235107574935585\n",
      "63770 in validation set.\n",
      "0.8120005156198233\n",
      "63770 in validation set.\n",
      "0.7993718281728062\n",
      "63770 in validation set.\n",
      "0.7873704269739452\n",
      "63770 in validation set.\n",
      "0.7739321576738446\n",
      "63770 in validation set.\n",
      "0.7571972833162127\n",
      "63770 in validation set.\n",
      "0.7335481246951298\n",
      "63770 in validation set.\n",
      "0.6951111891377918\n",
      "[0.8391147540912843, 0.8412108664980665, 0.8433001945295082, 0.8452469433959109, 0.8470764896924353, 0.8488691258364847, 0.8505009829200103, 0.8521245848714802, 0.853689584597902, 0.8551071682459431, 0.8564518610254898, 0.8577136015623974, 0.8588729314087157, 0.8600217415377847, 0.8611224640737906, 0.8621393396135656, 0.8630386416736573, 0.8638681298820838, 0.8646595023920692, 0.8653288737258266, 0.8659120576061197, 0.866367806078599, 0.8667454315869593, 0.8670425677803123, 0.867135047634147, 0.8671948656340756, 0.8659992115234497, 0.8657303165059577, 0.8653300656404428, 0.8647323717899174, 0.8639970675479607, 0.8630951820591604, 0.861956076576616, 0.8605395794239189, 0.8589208416745874, 0.8571258643401448, 0.8549505015610038, 0.8522573216787629, 0.8488650787752544, 0.8447185323167501, 0.8394161343281089, 0.8325366229221214, 0.8235107574935585, 0.8120005156198233, 0.7993718281728062, 0.7873704269739452, 0.7739321576738446, 0.7571972833162127, 0.7335481246951298, 0.6951111891377918]\n"
     ]
    }
   ],
   "source": [
    "# Search for best dice score\n",
    "\n",
    "# Range of thresh to iterate over\n",
    "log_range = np.arange(-0.5, 0, 0.01)\n",
    "thresh_range = 10**log_range\n",
    "# Ground truth and predicted directory\n",
    "gt_dir = '../slice_data_side/'\n",
    "pred_dir = '../slice_data_side_pred/'\n",
    "\n",
    "dice_scores = []\n",
    "for thresh in thresh_range:\n",
    "    dc = computeAverageDice(thresh, pred_dir, gt_dir)\n",
    "    print(dc)\n",
    "    dice_scores.append(dc)\n",
    "\n",
    "print(dice_scores)\n",
    "    "
   ]
  },
  {
   "cell_type": "code",
   "execution_count": 14,
   "metadata": {},
   "outputs": [
    {
     "name": "stdout",
     "output_type": "stream",
     "text": [
      "0.5623413251903494\n"
     ]
    }
   ],
   "source": [
    "idx = np.argmax(dice_scores)\n",
    "print(thresh_range[idx])"
   ]
  },
  {
   "cell_type": "code",
   "execution_count": 16,
   "metadata": {},
   "outputs": [
    {
     "name": "stdout",
     "output_type": "stream",
     "text": [
      "63770 in validation set.\n",
      "0.8671948656340756\n"
     ]
    }
   ],
   "source": [
    "print(computeAverageDice(thresh_range[idx], pred_dir, gt_dir))"
   ]
  },
  {
   "cell_type": "code",
   "execution_count": 5,
   "metadata": {},
   "outputs": [],
   "source": [
    "## Prepare list of tuples of paths to GT & Predicted Masks ##\n",
    "gt_dir = '../slice_data_side/'\n",
    "pred_dir = '../slice_data_side_pred/'\n",
    "mask_tups = []\n",
    "\n",
    "for _,_,files in os.walk(gt_dir):\n",
    "    for file in files:\n",
    "        # Prepare GT & pred fp\n",
    "        if 'mask' not in file:\n",
    "            continue\n",
    "        pred_file = file.replace('side_mask_', 'side_mask_pred_')\n",
    "        gt_fp = gt_dir + file\n",
    "        pred_fp = pred_dir + pred_file\n",
    "        # Create list of tuples (gt, pred)\n",
    "        mask_tups.append((gt_fp, pred_fp))\n",
    "\n",
    "\n",
    "        \n",
    "        "
   ]
  },
  {
   "cell_type": "code",
   "execution_count": 30,
   "metadata": {},
   "outputs": [
    {
     "name": "stdout",
     "output_type": "stream",
     "text": [
      "3577\n",
      "0\n",
      "1000\n"
     ]
    },
    {
     "name": "stderr",
     "output_type": "stream",
     "text": [
      "/home/julien/ARFF/metrics.py:13: RuntimeWarning: invalid value encountered in double_scalars\n",
      "  (np.sum(inv_mask_true) + np.sum(inv_mask_pred))))\n"
     ]
    },
    {
     "name": "stdout",
     "output_type": "stream",
     "text": [
      "2000\n",
      "3000\n"
     ]
    }
   ],
   "source": [
    "## Compute Dice Scores across alls scans ##\n",
    "import random\n",
    "# Randomly sample from mask_tups\n",
    "sampled_masks = random.sample(mask_tups, len(mask_tups)//22)\n",
    "print(len(sampled_masks))\n",
    "dice_coefs = []\n",
    "for idx, mask_tup in enumerate(sampled_masks):\n",
    "    #if (not os.path.isfile(mask_tup[0]) or not os.path.isfile(mask_tup[1])):\n",
    "    #    print(mask_tup[0], 'or', mask_tup[1], 'doesn\\'t exist?')\n",
    "    #    continue\n",
    "    #print(mask_tup[1])\n",
    "    gt_mask = (nib.load(mask_tup[0])).get_data()\n",
    "    pred_mask = (nib.load(mask_tup[1])).get_data()\n",
    "    dice_coefs.append(dice_coef(gt_mask, pred_mask, threshold = 0.5))\n",
    "    if idx%1000 == 0:\n",
    "        print(idx)\n",
    "    \n",
    "    "
   ]
  },
  {
   "cell_type": "code",
   "execution_count": 37,
   "metadata": {},
   "outputs": [
    {
     "name": "stdout",
     "output_type": "stream",
     "text": [
      "DescribeResult(nobs=3576, minmax=(0.0, 0.989607597204802), mean=0.8603695924711291, variance=0.021903653829475768, skewness=-3.244207536033756, kurtosis=11.838710183373417)\n"
     ]
    }
   ],
   "source": [
    "from scipy import stats\n",
    "dc = np.array(dice_coefs)\n",
    "dc = dc[~np.isnan(dc)]\n",
    "print(stats.describe(dc))\n",
    "\n",
    "# Get best max\n",
    "bm_idx = np.argmax(dc)\n",
    "gt_mask = (sampled_masks[bm_idx])[0]\n",
    "pred_mask = (sampled_masks[bm_idx])[1]\n",
    "gt_mask_img = nib.load(gt_mask).get_data()\n",
    "\n"
   ]
  }
 ],
 "metadata": {
  "kernelspec": {
   "display_name": "Python 3",
   "language": "python",
   "name": "python3"
  },
  "language_info": {
   "codemirror_mode": {
    "name": "ipython",
    "version": 3
   },
   "file_extension": ".py",
   "mimetype": "text/x-python",
   "name": "python",
   "nbconvert_exporter": "python",
   "pygments_lexer": "ipython3",
   "version": "3.6.4"
  }
 },
 "nbformat": 4,
 "nbformat_minor": 2
}
