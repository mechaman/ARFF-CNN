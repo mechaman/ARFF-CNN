{
 "cells": [
  {
   "cell_type": "code",
   "execution_count": 2,
   "metadata": {},
   "outputs": [],
   "source": [
    "### Load packages ###\n",
    "import matplotlib.pyplot as plt\n",
    "from scipy import stats\n",
    "import nibabel as nib\n",
    "import numpy as np\n",
    "import os\n",
    "\n",
    "### Aux. Functions ###\n",
    "def show_slices(slices):\n",
    "    \"\"\" Function to display row of image slices \"\"\"\n",
    "    fig, axes = plt.subplots(1, len(slices))\n",
    "    for i, slice in enumerate(slices):\n",
    "      axes[i].imshow(slice.T, cmap=\"gray\", origin=\"lower\")\n",
    "\n",
    "def show_slice(slice):\n",
    "    plt.imshow(slice.T, cmap=\"gray\", origin=\"lower\")\n",
    "    \n",
    "def normalizeImg(x):\n",
    "    # Normalize x\n",
    "    max_val = np.max(x)\n",
    "    min_val = np.min(x)\n",
    "    norm_x = (x-min_val)/(max_val-min_val + 1e-7)\n",
    "    return norm_x\n",
    "\n",
    "def thresholdMask(mask, threshold=0.56):\n",
    "    mask[mask >= threshold] = 1.0\n",
    "    mask[mask < threshold] = 0.0\n",
    "    return mask\n",
    "\n",
    "%matplotlib inline\n"
   ]
  },
  {
   "cell_type": "code",
   "execution_count": 6,
   "metadata": {},
   "outputs": [
    {
     "name": "stdout",
     "output_type": "stream",
     "text": [
      "<class 'nibabel.nifti1.Nifti1Header'> object, endian='<'\n",
      "sizeof_hdr      : 348\n",
      "data_type       : b''\n",
      "db_name         : b''\n",
      "extents         : 0\n",
      "session_error   : 0\n",
      "regular         : b'r'\n",
      "dim_info        : 0\n",
      "dim             : [  3 256 256 150   1   1   1   1]\n",
      "intent_p1       : 0.0\n",
      "intent_p2       : 0.0\n",
      "intent_p3       : 0.0\n",
      "intent_code     : none\n",
      "datatype        : int16\n",
      "bitpix          : 16\n",
      "slice_start     : 0\n",
      "pixdim          : [-1.        0.9375    0.9375    1.199997  0.        0.        0.\n",
      "  0.      ]\n",
      "vox_offset      : 0.0\n",
      "scl_slope       : nan\n",
      "scl_inter       : nan\n",
      "slice_end       : 0\n",
      "slice_code      : unknown\n",
      "xyzt_units      : 10\n",
      "cal_max         : 0.0\n",
      "cal_min         : 0.0\n",
      "slice_duration  : 0.0\n",
      "toffset         : 0.0\n",
      "glmax           : 0\n",
      "glmin           : 0\n",
      "descrip         : b'MR'\n",
      "aux_file        : b''\n",
      "qform_code      : scanner\n",
      "sform_code      : scanner\n",
      "quatern_b       : 0.468175\n",
      "quatern_c       : -0.5299171\n",
      "quatern_d       : -0.468175\n",
      "qoffset_x       : -88.63989\n",
      "qoffset_y       : 116.532005\n",
      "qoffset_z       : -112.113556\n",
      "srow_x          : [  0.         0.         1.199997 -88.63989 ]\n",
      "srow_y          : [-9.30352330e-01  1.15545668e-01  0.00000000e+00  1.16532005e+02]\n",
      "srow_z          : [ 1.15545668e-01  9.30352330e-01 -2.49799545e-16 -1.12113556e+02]\n",
      "intent_name     : b''\n",
      "magic           : b'n+1'\n"
     ]
    }
   ],
   "source": [
    "### Load file & get header ### \n",
    "norm_img_nii = nib.load('../data/IXI002-Guys-0828-T1.nii')\n",
    "header = norm_img_nii.header\n",
    "print(header)"
   ]
  },
  {
   "cell_type": "code",
   "execution_count": 8,
   "metadata": {},
   "outputs": [
    {
     "name": "stdout",
     "output_type": "stream",
     "text": [
      "(256, 256, 150)\n"
     ]
    }
   ],
   "source": [
    "### Get shape of header ###\n",
    "voxel_dims = header.get_data_shape()\n",
    "print(voxel_dims)"
   ]
  },
  {
   "cell_type": "code",
   "execution_count": 9,
   "metadata": {},
   "outputs": [
    {
     "name": "stdout",
     "output_type": "stream",
     "text": [
      "(0.9375, 0.9375, 1.199997)\n"
     ]
    }
   ],
   "source": [
    "### Get the voxel sizes in millimeters ###\n",
    "voxel_size = header.get_zooms()\n",
    "print(voxel_size)"
   ]
  },
  {
   "cell_type": "code",
   "execution_count": 10,
   "metadata": {},
   "outputs": [
    {
     "name": "stdout",
     "output_type": "stream",
     "text": [
      "Protocol is  (256, 256, 150, 0.9375, 0.9375, 1.199997)\n"
     ]
    }
   ],
   "source": [
    "### Create 'Protocol' Identifier ###\n",
    "protocol = voxel_dims + voxel_size\n",
    "print('Protocol is ', protocol)"
   ]
  }
 ],
 "metadata": {
  "kernelspec": {
   "display_name": "Python 3",
   "language": "python",
   "name": "python3"
  },
  "language_info": {
   "codemirror_mode": {
    "name": "ipython",
    "version": 3
   },
   "file_extension": ".py",
   "mimetype": "text/x-python",
   "name": "python",
   "nbconvert_exporter": "python",
   "pygments_lexer": "ipython3",
   "version": "3.6.4"
  }
 },
 "nbformat": 4,
 "nbformat_minor": 2
}
