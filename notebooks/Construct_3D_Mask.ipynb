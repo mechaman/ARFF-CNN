{
 "cells": [
  {
   "cell_type": "code",
   "execution_count": 8,
   "metadata": {},
   "outputs": [],
   "source": [
    "# Load Imports\n",
    "import numpy as np\n",
    "import nibabel as nib\n",
    "import matplotlib.pyplot as plt\n",
    "\n",
    "\n",
    "import os\n",
    "import sys\n",
    "module_path = os.path.abspath(os.path.join('..'))\n",
    "if module_path not in sys.path:\n",
    "    sys.path.append(module_path)\n",
    "from metrics import dice_coef"
   ]
  },
  {
   "cell_type": "code",
   "execution_count": 9,
   "metadata": {},
   "outputs": [],
   "source": [
    "# Aux. Functions\n",
    "def loadVolume(patient_name, slice_type):\n",
    "    ''' Load volume created by predicting partient side'''\n",
    "    volumes_fp = '../3D_test/Prob_Vols/'\n",
    "    vol_side_fn = (volumes_fp +\n",
    "                   patient_name +\n",
    "                   '_mask_pred_' +\n",
    "                   slice_type +\n",
    "                   '.nii')\n",
    "    return (nib.load(vol_side_fn)).get_data()\n",
    "\n",
    "def show_slices(slices):\n",
    "    \"\"\" Function to display row of image slices \"\"\"\n",
    "    fig, axes = plt.subplots(1, len(slices))\n",
    "    for i, slice in enumerate(slices):\n",
    "      axes[i].imshow(slice.T, cmap=\"gray\", origin=\"lower\")\n",
    "\n",
    "def show_slice(slice):\n",
    "    plt.imshow(slice.T, cmap=\"gray\", origin=\"lower\")\n",
    "    \n",
    "def normalizeImg(x):\n",
    "    # Normalize x\n",
    "    max_val = np.max(x)\n",
    "    min_val = np.min(x)\n",
    "    norm_x = (x-min_val)/(max_val-min_val + 1e-7)\n",
    "    return norm_x\n",
    "\n",
    "def thresholdMask(mask, threshold=0.56):\n",
    "    mask[mask >= threshold] = 1.0\n",
    "    mask[mask < threshold] = 0.0\n",
    "    return mask\n",
    "    \n"
   ]
  },
  {
   "cell_type": "code",
   "execution_count": 22,
   "metadata": {},
   "outputs": [],
   "source": [
    "# Load Patient Input Volume\n",
    "patient_input = '../test_set_mri_new/test_set_mri/IXI101-Guys-0749-T1.nii'\n",
    "defaced_patient_input = '../test_set_mri_new/test_set_mri/IXI101-Guys-0749-T1_defaced.nii'\n",
    "normal = nib.load(patient_input).get_data()\n",
    "defaced = nib.load(defaced_patient_input).get_data()\n"
   ]
  },
  {
   "cell_type": "code",
   "execution_count": 10,
   "metadata": {},
   "outputs": [],
   "source": [
    "# Load probabilistic volumes\n",
    "patient_name = 'IXI101-Guys-0749-T1'\n",
    "# Load side volume\n",
    "slice_type = 'side'\n",
    "vol_side = loadVolume(patient_name, slice_type)\n",
    "# Load top volume\n",
    "slice_type = 'top'\n",
    "vol_top = loadVolume(patient_name, slice_type)\n",
    "# Load back volume\n",
    "slice_type = 'back'\n",
    "vol_back = loadVolume(patient_name, slice_type)\n"
   ]
  },
  {
   "cell_type": "code",
   "execution_count": 55,
   "metadata": {},
   "outputs": [
    {
     "data": {
      "image/png": "[encoded data removed]",
      "text/plain": [
       "<matplotlib.figure.Figure at 0x7f1968267f60>"
      ]
     },
     "metadata": {},
     "output_type": "display_data"
    }
   ],
   "source": [
    "''' Compute the average of each element in matrix across multiple matrices '''\n",
    "prob_vol_arr = np.array([vol_side, vol_top, vol_back])\n",
    "avg_vol = np.mean(prob_vol_arr, axis=0)\n",
    "thresh_vol = thresholdMask(avg_vol, threshold=0.59)\n",
    "show_slice(thresh_vol[:, 180, :])"
   ]
  },
  {
   "cell_type": "code",
   "execution_count": 59,
   "metadata": {},
   "outputs": [
    {
     "name": "stdout",
     "output_type": "stream",
     "text": [
      "Dice Coefficient :  0.8760244180185562\n"
     ]
    }
   ],
   "source": [
    "# Load slice_type mask & compute dice coefficient\n",
    "slice_num = 0\n",
    "slice_fn = ('../slice_data_back_test/' + \n",
    "            patient_name + \n",
    "            '_back_mask_' + \n",
    "            str(slice_num) +\n",
    "           '.nii')\n",
    "gt_mask_slice = (nib.load(slice_fn).get_data())\n",
    "pred_mask_slice = avg_vol[:, slice_num, :]\n",
    "print('Dice Coefficient : ', dice_coef(gt_mask_slice,\n",
    "                                       pred_mask_slice,\n",
    "                                       threshold = 0.59))\n",
    "\n",
    "\n"
   ]
  }
 ],
 "metadata": {
  "kernelspec": {
   "display_name": "Python 3",
   "language": "python",
   "name": "python3"
  },
  "language_info": {
   "codemirror_mode": {
    "name": "ipython",
    "version": 3
   },
   "file_extension": ".py",
   "mimetype": "text/x-python",
   "name": "python",
   "nbconvert_exporter": "python",
   "pygments_lexer": "ipython3",
   "version": "3.6.4"
  }
 },
 "nbformat": 4,
 "nbformat_minor": 2
}
