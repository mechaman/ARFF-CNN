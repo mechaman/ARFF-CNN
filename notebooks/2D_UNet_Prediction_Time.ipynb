{
 "cells": [
  {
   "cell_type": "code",
   "execution_count": 18,
   "metadata": {},
   "outputs": [
    {
     "name": "stdout",
     "output_type": "stream",
     "text": [
      "The autoreload extension is already loaded. To reload it, use:\n",
      "  %reload_ext autoreload\n"
     ]
    }
   ],
   "source": [
    "## Load Imports ##\n",
    "import nibabel as nib\n",
    "import numpy as np\n",
    "from scipy import stats\n",
    "import time\n",
    "\n",
    "import warnings\n",
    "warnings.filterwarnings('ignore')\n",
    "\n",
    "\n",
    "import os\n",
    "os.environ[\"CUDA_DEVICE_ORDER\"] = \"PCI_BUS_ID\"   # see issue #152\n",
    "os.environ[\"CUDA_VISIBLE_DEVICES\"] = \"\"\n",
    "import sys\n",
    "module_path = os.path.abspath(os.path.join('..'))\n",
    "if module_path not in sys.path:\n",
    "    sys.path.append(module_path)\n",
    " \n",
    "\n",
    "from unet import myUnet\n",
    "from metrics import dice_coef\n",
    "from data_generator import DataGenerator\n",
    "from data_loader import *\n",
    "\n",
    "%load_ext autoreload\n",
    "%autoreload 2"
   ]
  },
  {
   "cell_type": "code",
   "execution_count": 23,
   "metadata": {},
   "outputs": [],
   "source": [
    "## Classification Parallelization ##\n",
    "from multiprocessing import Process\n",
    "\n",
    "def runInParallel(*fns):\n",
    "    proc = []\n",
    "    for fn in fns:\n",
    "        p = Process(target=fn)\n",
    "        p.start()\n",
    "        proc.append(p)\n",
    "    for p in proc:\n",
    "        p.join()\n",
    "\n",
    "def a(x):\n",
    "    return x\n",
    "\n"
   ]
  },
  {
   "cell_type": "code",
   "execution_count": 25,
   "metadata": {},
   "outputs": [],
   "source": [
    "# File path for dif. data sources \n",
    "patient_fp = '../patient1/'\n",
    "side_fp = (patient_fp + 'slice_data_side')\n",
    "back_fp = (patient_fp + 'slice_data_back')\n",
    "top_fp = (patient_fp + 'slice_data_top')\n",
    "\n",
    "# Load patient orig. file\n",
    "patient = np.random.rand(256,256,150)\n",
    "\n",
    "# Params for generators\n",
    "params = {'dim': (256,256),\n",
    "          'batch_size': 1,\n",
    "          'n_channels': 1,\n",
    "          'shuffle': False}\n",
    "\n",
    "## Load side data ##\n",
    "(_,\n",
    " _,\n",
    " _,\n",
    " _,\n",
    " x_side,\n",
    " y_side)  = load_data(side_fp, split=(0, 0, 100))\n",
    "predict_side_gen = DataGenerator(x_side, y_side, **params)\n",
    "\n",
    "## Load Back Data ##\n",
    "(_,\n",
    " _,\n",
    " _,\n",
    " _,\n",
    " x_back,\n",
    " y_back)  = load_data(back_fp, split=(0, 0, 100))\n",
    "predict_back_gen = DataGenerator(x_back, y_back, **params)\n",
    "\n",
    "\n",
    "## Load Top Data ##\n",
    "(_,\n",
    " _,\n",
    " _,\n",
    " _,\n",
    " x_top,\n",
    " y_top)  = load_data(top_fp, split=(0, 0, 100))\n",
    "predict_top_gen = DataGenerator(x_top, y_top, **params)\n",
    "\n"
   ]
  },
  {
   "cell_type": "code",
   "execution_count": 20,
   "metadata": {},
   "outputs": [],
   "source": [
    "### Load Models ###\n",
    "dim = (256, 256)\n",
    "\n",
    "## Side Model\n",
    "slice_type = 'side'\n",
    "model_prefix = 'zhi_unet_' + slice_type\n",
    "weights_fp = ('../weights/' + model_prefix + '.hdf5')\n",
    "\n",
    "side_unet = myUnet(img_rows=dim[0], img_cols=dim[1])\n",
    "side_model = side_unet.get_unet_zhi()\n",
    "side_model.load_weights(weights_fp)\n",
    "\n",
    "## Back Model\n",
    "slice_type = 'back'\n",
    "model_prefix = 'zhi_unet_' + slice_type\n",
    "weights_fp = ('../weights/' + model_prefix + '.hdf5')\n",
    "\n",
    "back_unet = myUnet(img_rows=dim[0], img_cols=dim[1])\n",
    "back_model = back_unet.get_unet_zhi()\n",
    "back_model.load_weights(weights_fp)\n",
    "\n",
    "## Top Model\n",
    "slice_type = 'top'\n",
    "model_prefix = 'zhi_unet_' + slice_type\n",
    "weights_fp = ('../weights/' + model_prefix + '.hdf5')\n",
    "\n",
    "top_unet = myUnet(img_rows=dim[0], img_cols=dim[1])\n",
    "top_model = top_unet.get_unet_zhi()\n",
    "top_model.load_weights(weights_fp)\n",
    "\n"
   ]
  },
  {
   "cell_type": "code",
   "execution_count": 31,
   "metadata": {},
   "outputs": [],
   "source": [
    "pad = (256-150)//2\n"
   ]
  },
  {
   "cell_type": "code",
   "execution_count": 39,
   "metadata": {},
   "outputs": [
    {
     "name": "stdout",
     "output_type": "stream",
     "text": [
      "12.17639446258545\n"
     ]
    }
   ],
   "source": [
    "start = time.time()\n",
    "mask = np.zeros_like(patient)\n",
    "### Predict via generator (implicitly indexing the orig. patient 3d scan) ###\n",
    "side_output = side_model.predict_generator(predict_side_gen)\n",
    "end = time.time()\n",
    "print(end-start)\n",
    "\n",
    "\n",
    "\n"
   ]
  },
  {
   "cell_type": "code",
   "execution_count": 44,
   "metadata": {},
   "outputs": [
    {
     "name": "stdout",
     "output_type": "stream",
     "text": [
      "20.66177463531494\n"
     ]
    }
   ],
   "source": [
    "start = time.time()\n",
    "### Predict via generator (implicitly indexing the orig. patient 3d scan) ###\n",
    "# Predict sides\n",
    "back_output = back_model.predict_generator(predict_back_gen)\n",
    "end = time.time()\n",
    "print(end-start)"
   ]
  },
  {
   "cell_type": "code",
   "execution_count": 41,
   "metadata": {},
   "outputs": [
    {
     "name": "stdout",
     "output_type": "stream",
     "text": [
      "20.627891302108765\n"
     ]
    }
   ],
   "source": [
    "start = time.time()\n",
    "# Predict tops\n",
    "top_output = top_model.predict_generator(predict_top_gen)\n",
    "\n",
    "### Reconstruct output ###\n",
    "\n",
    "end = time.time()\n",
    "print(end-start)\n"
   ]
  }
 ],
 "metadata": {
  "kernelspec": {
   "display_name": "Python 3",
   "language": "python",
   "name": "python3"
  },
  "language_info": {
   "codemirror_mode": {
    "name": "ipython",
    "version": 3
   },
   "file_extension": ".py",
   "mimetype": "text/x-python",
   "name": "python",
   "nbconvert_exporter": "python",
   "pygments_lexer": "ipython3",
   "version": "3.6.4"
  }
 },
 "nbformat": 4,
 "nbformat_minor": 2
}
