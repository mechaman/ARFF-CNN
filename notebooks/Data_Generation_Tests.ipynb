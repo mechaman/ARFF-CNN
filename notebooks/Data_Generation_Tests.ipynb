{
 "cells": [
  {
   "cell_type": "code",
   "execution_count": 1,
   "metadata": {
    "scrolled": false
   },
   "outputs": [
    {
     "name": "stderr",
     "output_type": "stream",
     "text": [
      "/home/shared/anaconda3/lib/python3.6/site-packages/h5py/__init__.py:36: FutureWarning: Conversion of the second argument of issubdtype from `float` to `np.floating` is deprecated. In future, it will be treated as `np.float64 == np.dtype(float).type`.\n",
      "  from ._conv import register_converters as _register_converters\n",
      "Using TensorFlow backend.\n"
     ]
    }
   ],
   "source": [
    "## Load Imports ##\n",
    "import nibabel as nib\n",
    "import numpy as np\n",
    "from scipy import stats\n",
    "\n",
    "\n",
    "import os\n",
    "import sys\n",
    "module_path = os.path.abspath(os.path.join('..'))\n",
    "if module_path not in sys.path:\n",
    "    sys.path.append(module_path)\n",
    "    \n",
    "from metrics import dice_coef\n",
    "from data_generator_refactored import DataGenerator\n",
    "from utils_refactored import *\n",
    "\n",
    "%load_ext autoreload\n",
    "%autoreload 2\n",
    "\n",
    "import matplotlib.pyplot as plt\n",
    "def show_slices(slices):\n",
    "    \"\"\" Function to display row of image slices \"\"\"\n",
    "    fig, axes = plt.subplots(1, len(slices))\n",
    "    for i, slice in enumerate(slices):\n",
    "      axes[i].imshow(slice.T, cmap=\"gray\", origin=\"lower\")\n",
    "\n",
    "def show_slice(slice):\n",
    "    plt.imshow(slice.T, cmap=\"gray\", origin=\"lower\")\n",
    "    \n",
    "def normalizeImg(x):\n",
    "    # Normalize x\n",
    "    max_val = np.max(x)\n",
    "    min_val = np.min(x)\n",
    "    norm_x = (x-min_val)/(max_val-min_val + 1e-7)\n",
    "    return norm_x\n",
    "\n",
    "def thresholdMask(mask, threshold=0.56):\n",
    "    mask[mask >= threshold] = 1.0\n",
    "    mask[mask < threshold] = 0.0\n",
    "    return mask\n",
    "\n",
    "%matplotlib inline\n",
    "\n"
   ]
  },
  {
   "cell_type": "code",
   "execution_count": 2,
   "metadata": {
    "scrolled": true
   },
   "outputs": [
    {
     "name": "stdout",
     "output_type": "stream",
     "text": [
      "Loading Data...\n",
      "../data/IXI014-HH-1236-T1.nii.gz\n"
     ]
    }
   ],
   "source": [
    "slice_type = 'side'\n",
    "train_dir = ('../slice_data_' + slice_type + '_val')\n",
    "train_dir = '../data'\n",
    "# Loading Data\n",
    "print('Loading Data...')\n",
    "partition={}\n",
    "(partition['x_train'],\n",
    "partition['y_train'],\n",
    "partition['x_val'],\n",
    "partition['y_val'],\n",
    "partition['x_test'],\n",
    "partition['y_test'])  = load_partitioned_data(train_dir, split=(80, 10, 10))\n",
    "\n",
    "# Parameters for input data\n",
    "params1 = {'dim': (256, 256, 256),\n",
    "          'batch_size': 1,\n",
    "          'n_channels': 1,\n",
    "          'shuffle': False}\n",
    "\n",
    "\n",
    "\n",
    "training_generator = DataGenerator(partition['x_train'], partition['y_train'], **params1)\n",
    "len(training_generator)\n",
    "print(partition['x_train'][0])"
   ]
  },
  {
   "cell_type": "code",
   "execution_count": 9,
   "metadata": {},
   "outputs": [
    {
     "name": "stdout",
     "output_type": "stream",
     "text": [
      "35\n",
      "(1, 256, 256, 256) (1, 256, 256, 256)\n"
     ]
    }
   ],
   "source": [
    "''' Iterate through generator '''\n",
    "x_img = None\n",
    "y_img = None\n",
    "count = 0\n",
    "for img in training_generator:\n",
    "    count+=1\n",
    "    print(training_generator.index)\n",
    "    print(img[0].shape, img[1].shape)\n",
    "    x_img = img[0][0, :, :, :]\n",
    "    y_img = img[1][0, :, :, :]\n",
    "    if count == 1:\n",
    "        break\n",
    "    print(img[0].shape, img[1].shape)"
   ]
  },
  {
   "cell_type": "code",
   "execution_count": null,
   "metadata": {},
   "outputs": [],
   "source": [
    "### Check if the image is legit visually ###\n",
    "x_img_slice = x_img[:, 75, :]\n",
    "y_img_slice = y_img[:, 75, :]\n",
    "show_slice(x_img_slice)\n",
    "plt.show()\n",
    "show_slice(y_img_slice)\n",
    "plt.show()"
   ]
  }
 ],
 "metadata": {
  "kernelspec": {
   "display_name": "Python 3",
   "language": "python",
   "name": "python3"
  },
  "language_info": {
   "codemirror_mode": {
    "name": "ipython",
    "version": 3
   },
   "file_extension": ".py",
   "mimetype": "text/x-python",
   "name": "python",
   "nbconvert_exporter": "python",
   "pygments_lexer": "ipython3",
   "version": "3.6.4"
  }
 },
 "nbformat": 4,
 "nbformat_minor": 2
}
